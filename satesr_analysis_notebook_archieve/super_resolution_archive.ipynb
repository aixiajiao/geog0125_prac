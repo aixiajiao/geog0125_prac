{
 "cells": [
  {
   "cell_type": "code",
   "execution_count": null,
   "id": "5ad4d32d",
   "metadata": {},
   "outputs": [],
   "source": [
    "#!git clone https://github.com/aixiajiao/satesr.git\n",
    "#%cd satesr"
   ]
  },
  {
   "cell_type": "code",
   "execution_count": null,
   "id": "c7ba1ff8",
   "metadata": {
    "scrolled": true
   },
   "outputs": [],
   "source": [
    "!python setup.py"
   ]
  },
  {
   "cell_type": "code",
   "execution_count": 1,
   "id": "e27dd082",
   "metadata": {},
   "outputs": [],
   "source": [
    "from satesr import satesr"
   ]
  },
  {
   "cell_type": "code",
   "execution_count": null,
   "id": "a30c9d76",
   "metadata": {},
   "outputs": [],
   "source": [
    "latlon=[51.472900, -0.476824]\n",
    "download_folder='demos/aerial_imgs/airport'"
   ]
  },
  {
   "cell_type": "code",
   "execution_count": null,
   "id": "1358614f",
   "metadata": {},
   "outputs": [],
   "source": [
    "#download images\n",
    "satesr(lat=latlon[0], #latitude    \n",
    "       lon=latlon[1], #longitude\n",
    "       radius=100,    #radius of the requested area\n",
    "       maxlevel=23,   #optinal, detail level of the requested area (1 to 23), higher the better, default at 20.\n",
    "       path=download_folder, #photo path\n",
    "       enhance=False,  #optional, image superesolution\n",
    "       scale=4)       #optional, default=4, the SR output scale of the requested image\n",
    "#other optional inputs: label(bool)--enable road label for the requested image, default = False;\n",
    "#                       tile(int)--split photos to tiles when GPU memory is limited, default = 0 ."
   ]
  },
  {
   "cell_type": "code",
   "execution_count": 4,
   "id": "bb1b4f97",
   "metadata": {},
   "outputs": [
    {
     "name": "stdout",
     "output_type": "stream",
     "text": [
      "No valid coordinates, SR only\n",
      "CPU mode, image processing might be slow\n",
      "Upsampling aerialimg_lv18_0816-0324 , total number of file(s): 1\n",
      "Finshed, enhanced image(s) saved in demos/aerial_imgs/0813_enhanced\n"
     ]
    }
   ],
   "source": [
    "#can also perform bulk SR processing\n",
    "satesr(enhance=True, path='demos/aerial_imgs/0813', mode=2)"
   ]
  },
  {
   "cell_type": "code",
   "execution_count": 8,
   "id": "df01898f",
   "metadata": {},
   "outputs": [],
   "source": [
    "from math import log10, sqrt\n",
    "import cv2\n",
    "import numpy as np\n",
    "def PSNR(original, predicted):\n",
    "    original_pic = cv2.imread(original)\n",
    "    predicted_pic = cv2.imread(predicted, 1)\n",
    "    mse = np.mean((original_pic - predicted_pic) ** 2)\n",
    "    if(mse == 0):  # MSE is zero means no noise is present in the signal .\n",
    "                  # Therefore PSNR have no importance.\n",
    "        return 100\n",
    "    max_pixel = 255.0\n",
    "    psnr = 20 * log10(max_pixel / sqrt(mse))\n",
    "    return print(f\"PSNR value is {psnr} dB\")"
   ]
  },
  {
   "cell_type": "code",
   "execution_count": 25,
   "id": "145088d7",
   "metadata": {},
   "outputs": [],
   "source": [
    "HR = 'demos/aerial_imgs/HR(lv20).jpeg'\n",
    "SR = ['ESRGAN(base).png','Real_ESRGAN.jpeg','RealESRGAN+LDL.png','BSRGAN.png','SwinIR.png','SwinIR_large.png','satesr.jpeg']"
   ]
  },
  {
   "cell_type": "code",
   "execution_count": 26,
   "id": "0b17cc78",
   "metadata": {},
   "outputs": [],
   "source": [
    "SR_path = []\n",
    "for i in SR:\n",
    "    SR_path.append('demos/aerial_imgs/'+i)"
   ]
  },
  {
   "cell_type": "code",
   "execution_count": 29,
   "id": "58c13f34",
   "metadata": {},
   "outputs": [
    {
     "name": "stdout",
     "output_type": "stream",
     "text": [
      "ESRGAN(base).png\n",
      "PSNR value is 28.98117092809381 dB\n",
      "Real_ESRGAN.jpeg\n",
      "PSNR value is 30.034862566060493 dB\n",
      "RealESRGAN+LDL.png\n",
      "PSNR value is 30.003186842286574 dB\n",
      "BSRGAN.png\n",
      "PSNR value is 30.351335993089638 dB\n",
      "SwinIR.png\n",
      "PSNR value is 30.112377645046248 dB\n",
      "SwinIR_large.png\n",
      "PSNR value is 30.18087273688416 dB\n",
      "satesr.jpeg\n",
      "PSNR value is 30.060144540524337 dB\n"
     ]
    }
   ],
   "source": [
    "for i in range(0,len(SR_path)):\n",
    "    print(SR[i])\n",
    "    PSNR(HR,SR_path[i])"
   ]
  },
  {
   "cell_type": "code",
   "execution_count": 32,
   "id": "b6de1904",
   "metadata": {},
   "outputs": [],
   "source": [
    "import skimage"
   ]
  },
  {
   "cell_type": "code",
   "execution_count": 42,
   "id": "c5e9a082",
   "metadata": {},
   "outputs": [
    {
     "name": "stdout",
     "output_type": "stream",
     "text": [
      "ESRGAN(base).png\n",
      "16.36819564075599\n",
      "Real_ESRGAN.jpeg\n",
      "20.16255686184623\n",
      "RealESRGAN+LDL.png\n",
      "20.273301403049167\n",
      "BSRGAN.png\n",
      "20.547911663782905\n",
      "SwinIR.png\n",
      "19.890084276128757\n",
      "SwinIR_large.png\n",
      "20.010940595427055\n",
      "satesr.jpeg\n",
      "20.257004938877007\n"
     ]
    }
   ],
   "source": [
    "for i in range(0,len(SR_path)):\n",
    "               print(SR[i])\n",
    "               print(skimage.metrics.peak_signal_noise_ratio(cv2.imread(HR),cv2.imread(SR_path[i])))"
   ]
  },
  {
   "cell_type": "code",
   "execution_count": 43,
   "id": "ea8a9323",
   "metadata": {},
   "outputs": [
    {
     "name": "stdout",
     "output_type": "stream",
     "text": [
      "ESRGAN(base).png\n"
     ]
    },
    {
     "name": "stderr",
     "output_type": "stream",
     "text": [
      "/var/folders/2r/2j6qyrbj7k74yckxjs8vz1zm0000gn/T/ipykernel_3338/2763460632.py:3: FutureWarning: `multichannel` is a deprecated argument name for `structural_similarity`. It will be removed in version 1.0. Please use `channel_axis` instead.\n",
      "  print(skimage.metrics.structural_similarity(cv2.imread(HR),cv2.imread(SR_path[i]),data_range=255,multichannel=True))\n"
     ]
    },
    {
     "name": "stdout",
     "output_type": "stream",
     "text": [
      "0.36774839751479366\n",
      "Real_ESRGAN.jpeg\n",
      "0.5776748759618279\n",
      "RealESRGAN+LDL.png\n",
      "0.587249200805174\n",
      "BSRGAN.png\n",
      "0.5787996418391276\n",
      "SwinIR.png\n",
      "0.5742904425114885\n",
      "SwinIR_large.png\n",
      "0.5815601573516082\n",
      "satesr.jpeg\n",
      "0.5779468993486921\n"
     ]
    }
   ],
   "source": [
    "for i in range(0,len(SR_path)):\n",
    "               print(SR[i])\n",
    "               print(skimage.metrics.structural_similarity(cv2.imread(HR),cv2.imread(SR_path[i]),data_range=255,multichannel=True))"
   ]
  },
  {
   "cell_type": "code",
   "execution_count": 44,
   "id": "1c3f599b",
   "metadata": {},
   "outputs": [
    {
     "name": "stdout",
     "output_type": "stream",
     "text": [
      "ESRGAN(base).png\n",
      "1500.5856769069894\n",
      "Real_ESRGAN.jpeg\n",
      "626.3609507941663\n",
      "RealESRGAN+LDL.png\n",
      "610.5907497074852\n",
      "BSRGAN.png\n",
      "573.1775799751708\n",
      "SwinIR.png\n",
      "666.917223193433\n",
      "SwinIR_large.png\n",
      "648.6139744072543\n",
      "satesr.jpeg\n",
      "612.8862342542944\n"
     ]
    }
   ],
   "source": [
    "for i in range(0,len(SR_path)):\n",
    "               print(SR[i])\n",
    "               print(skimage.metrics.mean_squared_error(cv2.imread(HR),cv2.imread(SR_path[i])))"
   ]
  },
  {
   "cell_type": "code",
   "execution_count": 52,
   "id": "11426fe5",
   "metadata": {},
   "outputs": [
    {
     "data": {
      "text/plain": [
       "(<Tile #1 - aerialimg_lv18_0816-0324_01_01.png>,\n",
       " <Tile #2 - aerialimg_lv18_0816-0324_01_02.png>,\n",
       " <Tile #3 - aerialimg_lv18_0816-0324_01_03.png>,\n",
       " <Tile #4 - aerialimg_lv18_0816-0324_01_04.png>,\n",
       " <Tile #5 - aerialimg_lv18_0816-0324_01_05.png>,\n",
       " <Tile #6 - aerialimg_lv18_0816-0324_02_01.png>,\n",
       " <Tile #7 - aerialimg_lv18_0816-0324_02_02.png>,\n",
       " <Tile #8 - aerialimg_lv18_0816-0324_02_03.png>,\n",
       " <Tile #9 - aerialimg_lv18_0816-0324_02_04.png>,\n",
       " <Tile #10 - aerialimg_lv18_0816-0324_02_05.png>,\n",
       " <Tile #11 - aerialimg_lv18_0816-0324_03_01.png>,\n",
       " <Tile #12 - aerialimg_lv18_0816-0324_03_02.png>,\n",
       " <Tile #13 - aerialimg_lv18_0816-0324_03_03.png>,\n",
       " <Tile #14 - aerialimg_lv18_0816-0324_03_04.png>,\n",
       " <Tile #15 - aerialimg_lv18_0816-0324_03_05.png>,\n",
       " <Tile #16 - aerialimg_lv18_0816-0324_04_01.png>,\n",
       " <Tile #17 - aerialimg_lv18_0816-0324_04_02.png>,\n",
       " <Tile #18 - aerialimg_lv18_0816-0324_04_03.png>,\n",
       " <Tile #19 - aerialimg_lv18_0816-0324_04_04.png>,\n",
       " <Tile #20 - aerialimg_lv18_0816-0324_04_05.png>)"
      ]
     },
     "execution_count": 52,
     "metadata": {},
     "output_type": "execute_result"
    }
   ],
   "source": [
    "import image_slicer\n",
    "image_slicer.slice('demos/aerial_imgs/0813/aerialimg_lv18_0816-0324.jpeg', 20)"
   ]
  },
  {
   "cell_type": "code",
   "execution_count": 51,
   "id": "b9bc665f",
   "metadata": {},
   "outputs": [],
   "source": [
    "for i in range(0,len(SR_path)):\n",
    "    image_slicer.slice(SR_path[i],20)"
   ]
  }
 ],
 "metadata": {
  "kernelspec": {
   "display_name": "Python 3 (ipykernel)",
   "language": "python",
   "name": "python3"
  },
  "language_info": {
   "codemirror_mode": {
    "name": "ipython",
    "version": 3
   },
   "file_extension": ".py",
   "mimetype": "text/x-python",
   "name": "python",
   "nbconvert_exporter": "python",
   "pygments_lexer": "ipython3",
   "version": "3.9.13"
  },
  "vscode": {
   "interpreter": {
    "hash": "b0fa6594d8f4cbf19f97940f81e996739fb7646882a419484c72d19e05852a7e"
   }
  }
 },
 "nbformat": 4,
 "nbformat_minor": 5
}
